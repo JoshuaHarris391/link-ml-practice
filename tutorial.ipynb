{
 "cells": [
  {
   "cell_type": "markdown",
   "metadata": {},
   "source": [
    "# Link ML tutorial\n",
    "- [linkml definitions](https://linkml.io/linkml-model/latest/)\n",
    "- [tutorial](https://linkml.io/linkml/intro/install.html)"
   ]
  },
  {
   "cell_type": "markdown",
   "metadata": {},
   "source": [
    "## Converting to json schema\n",
    "- Converting from yaml to json schema"
   ]
  },
  {
   "cell_type": "code",
   "execution_count": 1,
   "metadata": {
    "vscode": {
     "languageId": "shellscript"
    }
   },
   "outputs": [
    {
     "name": "stdout",
     "output_type": "stream",
     "text": [
      "{\n",
      "    \"$defs\": {\n",
      "        \"Person\": {\n",
      "            \"additionalProperties\": false,\n",
      "            \"description\": \"\",\n",
      "            \"properties\": {\n",
      "                \"age\": {\n",
      "                    \"type\": [\n",
      "                        \"string\",\n",
      "                        \"null\"\n",
      "                    ]\n",
      "                },\n",
      "                \"aliases\": {\n",
      "                    \"type\": [\n",
      "                        \"string\",\n",
      "                        \"null\"\n",
      "                    ]\n",
      "                },\n",
      "                \"full_name\": {\n",
      "                    \"type\": [\n",
      "                        \"string\",\n",
      "                        \"null\"\n",
      "                    ]\n",
      "                },\n",
      "                \"id\": {\n",
      "                    \"type\": [\n",
      "                        \"string\",\n",
      "                        \"null\"\n",
      "                    ]\n",
      "                },\n",
      "                \"phone\": {\n",
      "                    \"type\": [\n",
      "                        \"string\",\n",
      "                        \"null\"\n",
      "                    ]\n",
      "                }\n",
      "            },\n",
      "            \"title\": \"Person\",\n",
      "            \"type\": \"object\"\n",
      "        }\n",
      "    },\n",
      "    \"$id\": \"https://w3id.org/linkml/examples/personinfo\",\n",
      "    \"$schema\": \"https://json-schema.org/draft/2019-09/schema\",\n",
      "    \"additionalProperties\": true,\n",
      "    \"metamodel_version\": \"1.7.0\",\n",
      "    \"title\": \"personinfo\",\n",
      "    \"type\": \"object\",\n",
      "    \"version\": null\n",
      "}\n"
     ]
    }
   ],
   "source": [
    "!gen-json-schema personinfo.yaml"
   ]
  },
  {
   "cell_type": "markdown",
   "metadata": {},
   "source": [
    "## Validating a data file\n",
    "- note data file is in yaml format\n",
    "- what if data is in json format?"
   ]
  },
  {
   "cell_type": "code",
   "execution_count": 2,
   "metadata": {
    "vscode": {
     "languageId": "shellscript"
    }
   },
   "outputs": [
    {
     "name": "stdout",
     "output_type": "stream",
     "text": [
      "No issues found\n"
     ]
    }
   ],
   "source": [
    "!linkml-validate -s personinfo.yaml data/data.yaml"
   ]
  },
  {
   "cell_type": "code",
   "execution_count": 3,
   "metadata": {
    "vscode": {
     "languageId": "shellscript"
    }
   },
   "outputs": [
    {
     "name": "stdout",
     "output_type": "stream",
     "text": [
      "[ERROR] [data/bad-data.yaml/0] Additional properties are not allowed ('made_up_field' was unexpected) in /\n"
     ]
    }
   ],
   "source": [
    "!linkml-validate -s personinfo.yaml data/bad-data.yaml"
   ]
  },
  {
   "cell_type": "code",
   "execution_count": 4,
   "metadata": {
    "vscode": {
     "languageId": "shellscript"
    }
   },
   "outputs": [
    {
     "name": "stdout",
     "output_type": "stream",
     "text": [
      "[ERROR] [data/bad-data.json/0] 32 is not of type 'string', 'null' in /age\n"
     ]
    }
   ],
   "source": [
    "!linkml-validate -s personinfo.yaml data/bad-data.json"
   ]
  },
  {
   "cell_type": "markdown",
   "metadata": {},
   "source": [
    "## Nesting lists of objects\n",
    "- we create a class called a Container. This Container is defined as the tree root, and has a slot called persons, which collects all the instances of the person class / entity\n",
    "- You can also add metadata to the container object, e.g the description and name of the dataset"
   ]
  },
  {
   "cell_type": "code",
   "execution_count": 5,
   "metadata": {
    "vscode": {
     "languageId": "shellscript"
    }
   },
   "outputs": [
    {
     "name": "stdout",
     "output_type": "stream",
     "text": [
      "id: https://w3id.org/linkml/examples/personinfo\u001b[m\n",
      "name: personinfo\u001b[m\n",
      "prefixes:\u001b[m\n",
      "  linkml: https://w3id.org/linkml/\u001b[m\n",
      "imports:\u001b[m\n",
      "  - linkml:types\u001b[m\n",
      "default_range: string\u001b[m\n",
      "\u001b[m\n",
      "classes:\u001b[m\n",
      "  Person:\u001b[m\n",
      "    attributes:\u001b[m\n",
      "      id:\u001b[m\n",
      "      full_name:\u001b[m\n",
      "      aliases:\u001b[m\n",
      "      phone:\u001b[m\n",
      "      age:\u001b[m\n",
      "  Container:\u001b[m\n",
      "    tree_root: true\u001b[m\n",
      "    attributes:\u001b[m\n",
      "      persons:\u001b[m\n",
      "        multivalued: true\u001b[m\n",
      "        inlined_as_list: true\u001b[m\n",
      "        range: Person\u001b[m\n",
      "\u001b[7mpersoninfo_container.yaml (END)\u001b[m\u001b[K\u0007\u001b[H\u001b[2J\u001b[H\u001b[H\u001b[2J\u001b[Hid: https://w3id.org/linkml/examples/personinfo\u001b[m\n",
      "name: personinfo\u001b[m\n",
      "prefixes:\u001b[m\n",
      "  linkml: https://w3id.org/linkml/\u001b[m\n",
      "imports:\u001b[m\n",
      "  - linkml:types\u001b[m\n",
      "default_range: string\u001b[m\n",
      "\u001b[m\n",
      "classes:\u001b[m\n",
      "  Person:\u001b[m\n",
      "    attributes:\u001b[m\n",
      "      id:\u001b[m\n",
      "      full_name:\u001b[m\n",
      "      aliases:\u001b[m\n",
      "      phone:\u001b[m\n",
      "      age:\u001b[m\n",
      "  Container:\u001b[m\n",
      "    tree_root: true\u001b[m\n",
      "    attributes:\u001b[m\n",
      "      persons:\u001b[m\n",
      "        multivalued: true\u001b[m\n",
      "        inlined_as_list: true\u001b[m\n",
      "        range: Person\u001b[m\n",
      "\u001b[K\u001b[7m(END)\u001b[m\u001b[K"
     ]
    }
   ],
   "source": [
    "!less personinfo_container.yaml"
   ]
  },
  {
   "cell_type": "markdown",
   "metadata": {},
   "source": [
    "lets try validate this new schema with a container as root"
   ]
  },
  {
   "cell_type": "code",
   "execution_count": 6,
   "metadata": {
    "vscode": {
     "languageId": "shellscript"
    }
   },
   "outputs": [
    {
     "name": "stdout",
     "output_type": "stream",
     "text": [
      "No issues found\n"
     ]
    }
   ],
   "source": [
    "!linkml-validate -s personinfo_container.yaml data/data_2.yaml"
   ]
  },
  {
   "cell_type": "markdown",
   "metadata": {},
   "source": [
    "## Visualising the schema"
   ]
  },
  {
   "cell_type": "markdown",
   "metadata": {},
   "source": [
    "first we get the REST url, just paste the output into your webbrowser"
   ]
  },
  {
   "cell_type": "code",
   "execution_count": 7,
   "metadata": {
    "vscode": {
     "languageId": "shellscript"
    }
   },
   "outputs": [
    {
     "name": "stdout",
     "output_type": "stream",
     "text": [
      "https://yuml.me/diagram/nofunky;dir:TB/class/[Container]++- persons 0..*>[Person|id:string %3F;full_name:string %3F;aliases:string %3F;phone:string %3F;age:string %3F],[Container]"
     ]
    }
   ],
   "source": [
    "!gen-yuml -f yuml personinfo_container.yaml"
   ]
  },
  {
   "cell_type": "markdown",
   "metadata": {},
   "source": [
    "alternatively you can save to png"
   ]
  },
  {
   "cell_type": "code",
   "execution_count": 11,
   "metadata": {
    "vscode": {
     "languageId": "shellscript"
    }
   },
   "outputs": [],
   "source": [
    "!gen-yuml -f png -d . personinfo_container.yaml"
   ]
  },
  {
   "cell_type": "markdown",
   "metadata": {},
   "source": [
    "![](Personinfo.png)"
   ]
  },
  {
   "cell_type": "markdown",
   "metadata": {},
   "source": [
    "Alternatively you can use mermaid"
   ]
  },
  {
   "cell_type": "code",
   "execution_count": 9,
   "metadata": {
    "vscode": {
     "languageId": "shellscript"
    }
   },
   "outputs": [
    {
     "name": "stdout",
     "output_type": "stream",
     "text": [
      "```mermaid\n",
      "erDiagram\n",
      "Container {\n",
      "\n",
      "}\n",
      "Person {\n",
      "    string id  \n",
      "    string full_name  \n",
      "    string aliases  \n",
      "    string phone  \n",
      "    string age  \n",
      "}\n",
      "\n",
      "Container ||--}o Person : \"persons\"\n",
      "\n",
      "```\n",
      "\n"
     ]
    }
   ],
   "source": [
    "!gen-erdiagram personinfo_container.yaml"
   ]
  },
  {
   "cell_type": "markdown",
   "metadata": {},
   "source": [
    "---\n",
    "\n",
    "## Adding constraints and performing validation\n",
    "- Refer to the following for slot definitions [linkml slot definitions](https://linkml.io/linkml-model/latest/docs/specification/03schemas/#slotdefinition-metaclass)"
   ]
  },
  {
   "cell_type": "code",
   "execution_count": 1,
   "metadata": {
    "vscode": {
     "languageId": "shellscript"
    }
   },
   "outputs": [
    {
     "name": "stdout",
     "output_type": "stream",
     "text": [
      "id: https://w3id.org/linkml/examples/personinfo\u001b[m\n",
      "name: personinfo\u001b[m\n",
      "prefixes:\u001b[m\n",
      "  linkml: https://w3id.org/linkml/\u001b[m\n",
      "imports:\u001b[m\n",
      "  - linkml:types\u001b[m\n",
      "default_range: string\u001b[m\n",
      "\u001b[m\n",
      "classes:\u001b[m\n",
      "  Person:\u001b[m\n",
      "    attributes:\u001b[m\n",
      "      id:\u001b[m\n",
      "        identifier: true     ## unique key for a person\u001b[m\n",
      "      full_name:\u001b[m\n",
      "        required: true       ## must be supplied\u001b[m\n",
      "        description:\u001b[m\n",
      "          name of the person\u001b[m\n",
      "      aliases:\u001b[m\n",
      "        multivalued: true    ## range is a list\u001b[m\n",
      "        description:\u001b[m\n",
      "          other names for the person\u001b[m\n",
      "      phone:\u001b[m\n",
      "        pattern: \"^[\\\\d\\\\(\\\\)\\\\-]+$\"   ## regular expression\u001b[m\n",
      "\u001b[7mschema/personinfo_constain.yaml\u001b[m\u001b[K\u0007\u001b[H\u001b[2J\u001b[H\u001b[H\u001b[2J\u001b[Hid: https://w3id.org/linkml/examples/personinfo\u001b[m\n",
      "name: personinfo\u001b[m\n",
      "prefixes:\u001b[m\n",
      "  linkml: https://w3id.org/linkml/\u001b[m\n",
      "imports:\u001b[m\n",
      "  - linkml:types\u001b[m\n",
      "default_range: string\u001b[m\n",
      "\u001b[m\n",
      "classes:\u001b[m\n",
      "  Person:\u001b[m\n",
      "    attributes:\u001b[m\n",
      "      id:\u001b[m\n",
      "        identifier: true     ## unique key for a person\u001b[m\n",
      "      full_name:\u001b[m\n",
      "        required: true       ## must be supplied\u001b[m\n",
      "        description:\u001b[m\n",
      "          name of the person\u001b[m\n",
      "      aliases:\u001b[m\n",
      "        multivalued: true    ## range is a list\u001b[m\n",
      "        description:\u001b[m\n",
      "          other names for the person\u001b[m\n",
      "      phone:\u001b[m\n",
      "        pattern: \"^[\\\\d\\\\(\\\\)\\\\-]+$\"   ## regular expression\u001b[m\n",
      "\u001b[K      age:\u001b[m\n",
      ":\u001b[K"
     ]
    }
   ],
   "source": [
    "!less schema/personinfo_constain.yaml"
   ]
  },
  {
   "cell_type": "markdown",
   "metadata": {},
   "source": [
    "testing another batch of bad data on this new schema with more detailed constraints"
   ]
  },
  {
   "cell_type": "code",
   "execution_count": 5,
   "metadata": {
    "vscode": {
     "languageId": "shellscript"
    }
   },
   "outputs": [
    {
     "name": "stdout",
     "output_type": "stream",
     "text": [
      "[ERROR] [data/bad-data_2.yaml/0] '1-800-kryptonite' does not match '^[\\\\d\\\\(\\\\)\\\\-]+$' in /persons/0/phone\n",
      "[ERROR] [data/bad-data_2.yaml/0] 'full_name' is a required property in /persons/1\n"
     ]
    }
   ],
   "source": [
    "!linkml-validate -s schema/personinfo_constrain.yaml data/bad-data_2.yaml"
   ]
  },
  {
   "cell_type": "markdown",
   "metadata": {},
   "source": [
    "You can also just use json schema to validate as well"
   ]
  },
  {
   "cell_type": "code",
   "execution_count": 6,
   "metadata": {
    "vscode": {
     "languageId": "shellscript"
    }
   },
   "outputs": [],
   "source": [
    "!gen-json-schema schema/personinfo_constrain.yaml > schema/personinfo_constrain.json"
   ]
  },
  {
   "cell_type": "code",
   "execution_count": 11,
   "metadata": {
    "vscode": {
     "languageId": "shellscript"
    }
   },
   "outputs": [
    {
     "name": "stdout",
     "output_type": "stream",
     "text": [
      "/Users/harrijh/projects/link-ml-practice/.venv/bin/jsonschema:5: DeprecationWarning: The jsonschema CLI is deprecated and will be removed in a future version. Please use check-jsonschema instead, which can be installed from https://pypi.org/project/check-jsonschema/\n",
      "  from jsonschema.cli import main\n"
     ]
    }
   ],
   "source": [
    "!jsonschema -i data/bad-data_2.json schema/personinfo_constrain.json"
   ]
  },
  {
   "cell_type": "markdown",
   "metadata": {},
   "source": [
    "I think its perferable to just use linkml's validator"
   ]
  },
  {
   "cell_type": "code",
   "execution_count": null,
   "metadata": {
    "vscode": {
     "languageId": "shellscript"
    }
   },
   "outputs": [],
   "source": []
  },
  {
   "cell_type": "markdown",
   "metadata": {},
   "source": [
    "## Converting to excel\n",
    "- [linkml to excel](https://linkml.io/linkml/generators/excel.html)"
   ]
  },
  {
   "cell_type": "code",
   "execution_count": 13,
   "metadata": {
    "vscode": {
     "languageId": "shellscript"
    }
   },
   "outputs": [],
   "source": [
    "!gen-excel schema/personinfo_constrain.yaml --output schema/personinfo_constrain.xlsx"
   ]
  },
  {
   "cell_type": "markdown",
   "metadata": {},
   "source": [
    "Converting from excel/google sheet to yaml"
   ]
  },
  {
   "cell_type": "code",
   "execution_count": null,
   "metadata": {
    "vscode": {
     "languageId": "shellscript"
    }
   },
   "outputs": [],
   "source": [
    "!sheets2linkml your_excel_file.xlsx -o output_schema.yaml"
   ]
  }
 ],
 "metadata": {
  "kernelspec": {
   "display_name": ".venv",
   "language": "python",
   "name": "python3"
  },
  "language_info": {
   "codemirror_mode": {
    "name": "ipython",
    "version": 3
   },
   "file_extension": ".py",
   "mimetype": "text/x-python",
   "name": "python",
   "nbconvert_exporter": "python",
   "pygments_lexer": "ipython3",
   "version": "3.9.5"
  }
 },
 "nbformat": 4,
 "nbformat_minor": 2
}
